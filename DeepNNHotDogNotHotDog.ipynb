{
  "nbformat": 4,
  "nbformat_minor": 0,
  "metadata": {
    "coursera": {
      "course_slug": "neural-networks-deep-learning",
      "graded_item_id": "TSPse",
      "launcher_item_id": "24mxX"
    },
    "kernelspec": {
      "display_name": "Python 3",
      "language": "python",
      "name": "python3"
    },
    "language_info": {
      "codemirror_mode": {
        "name": "ipython",
        "version": 3
      },
      "file_extension": ".py",
      "mimetype": "text/x-python",
      "name": "python",
      "nbconvert_exporter": "python",
      "pygments_lexer": "ipython3",
      "version": "3.6.0"
    },
    "colab": {
      "name": "DeepNNHotDogNotHotDog.ipynb",
      "provenance": [],
      "collapsed_sections": [],
      "toc_visible": true,
      "machine_shape": "hm"
    }
  },
  "cells": [
    {
      "cell_type": "markdown",
      "metadata": {
        "id": "5GqU65x29yWi",
        "colab_type": "text"
      },
      "source": [
        "#HotDog-NotHotDog!\n",
        "This project is inspired by the fictional app Seefood created on HBO's Silicon Valley. The idea of the app is to work as a simple image classifier to identify an image as either a hotdog or not a hotdog. This attempt at classification is built using a 4-layer deep neural network with Relu Activation for the hidden layers and sigmoid for the classification output layer. The model is derived from an exercise in Andrew Ng's Neural Networks and Deep Learning course from deeplearning.ai. The dataset of hotdog images comes from https://www.kaggle.com/dansbecker/hot-dog-not-hot-dog/data."
      ]
    },
    {
      "cell_type": "markdown",
      "metadata": {
        "id": "KSc14YWlsoQO",
        "colab_type": "text"
      },
      "source": [
        "**Data Pre-processing**\n"
      ]
    },
    {
      "cell_type": "code",
      "metadata": {
        "id": "eA4xn227uqTv",
        "colab_type": "code",
        "outputId": "504d8dbe-060b-4375-c8c2-d29de26131ad",
        "colab": {
          "base_uri": "https://localhost:8080/",
          "height": 122
        }
      },
      "source": [
        "#import my google drive\n",
        "from google.colab import drive\n",
        "drive.mount('/content/drive')\n",
        "\n",
        "#import file navigation libraries\n",
        "import os\n",
        "import zipfile\n",
        "\n",
        "#open the zipfile\n",
        "zip_ref = zipfile.ZipFile(\"/content/drive/My Drive/HotDogNotHotDog/hot-dog-not-hot-dog.zip\")\n",
        "zip_ref.extractall(\"/tmp\")\n",
        "zip_ref.close()"
      ],
      "execution_count": 4,
      "outputs": [
        {
          "output_type": "stream",
          "text": [
            "Go to this URL in a browser: https://accounts.google.com/o/oauth2/auth?client_id=947318989803-6bn6qk8qdgf4n4g3pfee6491hc0brc4i.apps.googleusercontent.com&redirect_uri=urn%3aietf%3awg%3aoauth%3a2.0%3aoob&response_type=code&scope=email%20https%3a%2f%2fwww.googleapis.com%2fauth%2fdocs.test%20https%3a%2f%2fwww.googleapis.com%2fauth%2fdrive%20https%3a%2f%2fwww.googleapis.com%2fauth%2fdrive.photos.readonly%20https%3a%2f%2fwww.googleapis.com%2fauth%2fpeopleapi.readonly\n",
            "\n",
            "Enter your authorization code:\n",
            "··········\n",
            "Mounted at /content/drive\n"
          ],
          "name": "stdout"
        }
      ]
    },
    {
      "cell_type": "code",
      "metadata": {
        "id": "uWXmps9YTObT",
        "colab_type": "code",
        "colab": {}
      },
      "source": [
        "#import data-science libraries\n",
        "import numpy as np\n",
        "import matplotlib.image as mpimg\n",
        "import matplotlib.pyplot as plt\n",
        "import cv2"
      ],
      "execution_count": 0,
      "outputs": []
    },
    {
      "cell_type": "code",
      "metadata": {
        "id": "FlSZap7LuqT2",
        "colab_type": "code",
        "colab": {}
      },
      "source": [
        "# store root directories\n",
        "base_dir = '/tmp/seefood'\n",
        "train_dir = os.path.join(base_dir, 'train')\n",
        "test_dir = os.path.join(base_dir, 'test')\n",
        "\n",
        "#train and test directories\n",
        "train_hotdog_dir = os.path.join(train_dir, 'hot_dog')\n",
        "\n",
        "train_nothotdog_dir = os.path.join(train_dir, 'not_hot_dog')\n",
        "\n",
        "test_hotdog_dir = os.path.join(test_dir, 'hot_dog')\n",
        "\n",
        "test_nothotdog_dir = os.path.join(test_dir, 'not_hot_dog')"
      ],
      "execution_count": 0,
      "outputs": []
    },
    {
      "cell_type": "code",
      "metadata": {
        "id": "nO1hK-8_uqT5",
        "colab_type": "code",
        "outputId": "4c0f2b49-dc1b-47c9-961b-819b3963573d",
        "colab": {
          "base_uri": "https://localhost:8080/",
          "height": 71
        }
      },
      "source": [
        "#arrays of fileneames for different datagroups (train_x, train_y, test_x, test_y)\n",
        "train_hotdog_fnames = os.listdir(train_hotdog_dir)\n",
        "train_nothotdog_fnames = os.listdir(train_nothotdog_dir)\n",
        "test_hotdog_fnames = os.listdir(test_hotdog_dir)\n",
        "test_nothotdog_fnames = os.listdir(test_nothotdog_dir)\n",
        "\n",
        "\n",
        "print(train_hotdog_fnames[:10])\n",
        "print(train_nothotdog_fnames[:10])"
      ],
      "execution_count": 7,
      "outputs": [
        {
          "output_type": "stream",
          "text": [
            "['3495622.jpg', '1098632.jpg', '116486.jpg', '127117.jpg', '1143044.jpg', '3750744.jpg', '979767.jpg', '3798465.jpg', '910098.jpg', '1344958.jpg']\n",
            "['188505.jpg', '93653.jpg', '98617.jpg', '319830.jpg', '96935.jpg', '274368.jpg', '236973.jpg', '185190.jpg', '89502.jpg', '178804.jpg']\n"
          ],
          "name": "stdout"
        }
      ]
    },
    {
      "cell_type": "code",
      "metadata": {
        "id": "FWluIU2hvMv3",
        "colab_type": "code",
        "outputId": "9d9d8df6-4910-4643-9614-ebf66083fcb4",
        "colab": {
          "base_uri": "https://localhost:8080/",
          "height": 85
        }
      },
      "source": [
        "#show our dataset sizes\n",
        "print('total training hotdog images:', len(os.listdir(train_hotdog_dir)))\n",
        "print('total training nothotdog images:', len(os.listdir(train_nothotdog_dir)))\n",
        "print('total test hotdog images:', len(os.listdir(test_hotdog_dir)))\n",
        "print('total test nothotdog images:', len(os.listdir(test_nothotdog_dir)))"
      ],
      "execution_count": 8,
      "outputs": [
        {
          "output_type": "stream",
          "text": [
            "total training hotdog images: 249\n",
            "total training nothotdog images: 249\n",
            "total test hotdog images: 250\n",
            "total test nothotdog images: 250\n"
          ],
          "name": "stdout"
        }
      ]
    },
    {
      "cell_type": "code",
      "metadata": {
        "id": "n2IaZSg9vS0d",
        "colab_type": "code",
        "colab": {}
      },
      "source": [
        "#create arrays with the image represented as resized pixel arrays \n",
        "\n",
        "def fillArrays(filename_set, directory, output_val, img_size):\n",
        "  \"\"\" fillArrays(filename_set, output_val) fills an X data numpy array with images with src filename_set[i] \n",
        "      and a Y numpy array with output_val\n",
        "    Keyword arguments: \n",
        "      filename_set: a python list of filenames\n",
        "      output_val: an integer, 1 or 0, representing the Y value associated with this set\n",
        "      directory: a string representing the filepath for the image set\n",
        "      img_size: the size of the image to standardize to -- image will have dim (img_size, img_size, 3)\n",
        "    Return:\n",
        "      x_array: output array\n",
        "      y_array: output array\n",
        "  \"\"\"\n",
        "  x_array = []\n",
        "  y_array = []\n",
        "  for fname in (filename_set):\n",
        "    img_path = directory + \"/\" + fname\n",
        "    img = cv2.imread(img_path, 3)\n",
        "    b,g,r = cv2.split(img)           # get b, g, r\n",
        "    rgb_img = cv2.merge([r,g,b])\n",
        "    x_array.append(cv2.resize(rgb_img, dsize=(img_size, img_size), interpolation=cv2.INTER_CUBIC))\n",
        "    y_array.append(output_val)\n",
        "  return x_array, y_array\n",
        "\n",
        "first_half_xtrain, first_half_ytrain = fillArrays(train_hotdog_fnames, train_hotdog_dir, 1, 64)\n",
        "second_half_xtrain, second_half_ytrain = fillArrays(train_nothotdog_fnames, train_nothotdog_dir, 0, 64)\n",
        "first_half_xtest, first_half_ytest = fillArrays(test_hotdog_fnames, test_hotdog_dir, 1, 64)\n",
        "second_half_xtest, second_half_ytest = fillArrays(test_nothotdog_fnames, test_nothotdog_dir, 0, 64)\n",
        "\n",
        "train_x_orig = np.array(first_half_xtrain + second_half_xtrain)\n",
        "train_y_orig = np.array(first_half_ytrain + second_half_ytrain)\n",
        "test_x_orig = np.array(first_half_xtest + second_half_xtest)\n",
        "test_y_orig = np.array(first_half_ytest + second_half_ytest)"
      ],
      "execution_count": 0,
      "outputs": []
    },
    {
      "cell_type": "code",
      "metadata": {
        "id": "tO9Rdj3ZvaB7",
        "colab_type": "code",
        "outputId": "08674831-b42b-4d85-962b-da5e8e2dcbd5",
        "colab": {
          "base_uri": "https://localhost:8080/",
          "height": 404
        }
      },
      "source": [
        "#dataset information\n",
        "m_train = train_x_orig.shape[0] #number of training examples\n",
        "num_px = train_x_orig.shape[1] #number of pixels per image\n",
        "m_test = test_x_orig.shape[0] #number of test examples\n",
        "\n",
        "#reshape Y datasets\n",
        "train_y = train_y_orig.reshape((1, m_train))\n",
        "test_y = test_y_orig.reshape((1, m_test))\n",
        "\n",
        "print (\"Number of training examples: \" + str(m_train))\n",
        "print (\"Number of testing examples: \" + str(m_test))\n",
        "print (\"Each image is of size: (\" + str(num_px) + \", \" + str(num_px) + \", 3)\")\n",
        "print (\"train_x_orig shape: \" + str(train_x_orig.shape))\n",
        "print (\"train_y shape: \" + str(train_y.shape))\n",
        "print (\"test_x_orig shape: \" + str(test_x_orig.shape))\n",
        "print (\"test_y shape: \" + str(test_y.shape))\n",
        "\n",
        "plt.imshow(train_x_orig[100])"
      ],
      "execution_count": 10,
      "outputs": [
        {
          "output_type": "stream",
          "text": [
            "Number of training examples: 498\n",
            "Number of testing examples: 500\n",
            "Each image is of size: (64, 64, 3)\n",
            "train_x_orig shape: (498, 64, 64, 3)\n",
            "train_y shape: (1, 498)\n",
            "test_x_orig shape: (500, 64, 64, 3)\n",
            "test_y shape: (1, 500)\n"
          ],
          "name": "stdout"
        },
        {
          "output_type": "execute_result",
          "data": {
            "text/plain": [
              "<matplotlib.image.AxesImage at 0x7f9567d1a860>"
            ]
          },
          "metadata": {
            "tags": []
          },
          "execution_count": 10
        },
        {
          "output_type": "display_data",
          "data": {
            "image/png": "[encoded data removed]",
            "text/plain": [
              "<Figure size 432x288 with 1 Axes>"
            ]
          },
          "metadata": {
            "tags": [],
            "needs_background": "light"
          }
        }
      ]
    },
    {
      "cell_type": "code",
      "metadata": {
        "id": "GtDdRVv4uqT8",
        "colab_type": "code",
        "outputId": "b53663ca-1fa4-4c59-80f0-a76430b22253",
        "colab": {
          "base_uri": "https://localhost:8080/",
          "height": 51
        }
      },
      "source": [
        "# Reshape the training and test examples \n",
        "train_x_flatten = train_x_orig.reshape(train_x_orig.shape[0], -1).T   # The \"-1\" makes reshape flatten the remaining dimensions\n",
        "test_x_flatten = test_x_orig.reshape(test_x_orig.shape[0], -1).T\n",
        "\n",
        "# Standardize data to have feature values between 0 and 1.\n",
        "train_x = train_x_flatten/255.\n",
        "test_x = test_x_flatten/255.\n",
        "\n",
        "print (\"train_x's shape: \" + str(train_x.shape))\n",
        "print (\"test_x's shape: \" + str(test_x.shape))\n"
      ],
      "execution_count": 11,
      "outputs": [
        {
          "output_type": "stream",
          "text": [
            "train_x's shape: (12288, 498)\n",
            "test_x's shape: (12288, 500)\n"
          ],
          "name": "stdout"
        }
      ]
    },
    {
      "cell_type": "markdown",
      "metadata": {
        "id": "90o2knAiCerW",
        "colab_type": "text"
      },
      "source": [
        "**Model Constants**"
      ]
    },
    {
      "cell_type": "code",
      "metadata": {
        "id": "QlxNn1-NuqUB",
        "colab_type": "code",
        "outputId": "acf1e1f7-8ec8-43e4-b1c6-4795d9742a02",
        "colab": {
          "base_uri": "https://localhost:8080/",
          "height": 34
        }
      },
      "source": [
        "n_x = train_x.shape[0]     # num_px * num_px * 3\n",
        "n_y = 1 # number of units in the output layer\n",
        "layers_dims = [n_x, 20, 7, 5, n_y] #units in each layer\n",
        "print(layers_dims)"
      ],
      "execution_count": 12,
      "outputs": [
        {
          "output_type": "stream",
          "text": [
            "[12288, 20, 7, 5, 1]\n"
          ],
          "name": "stdout"
        }
      ]
    },
    {
      "cell_type": "markdown",
      "metadata": {
        "id": "gs8Wh2jGCkfr",
        "colab_type": "text"
      },
      "source": [
        "**Activation Functions**"
      ]
    },
    {
      "cell_type": "code",
      "metadata": {
        "id": "IabDhi_ayWjJ",
        "colab_type": "code",
        "colab": {}
      },
      "source": [
        "def sigmoid(Z):\n",
        "    \"\"\"\n",
        "    sigmoid activation in numpy\n",
        "    inputs:\n",
        "      Z: numpy array\n",
        "    outputs:\n",
        "      A: output of sigmoid(z), same shape as Z\n",
        "      cache: hold Z to be used for backpropagation\n",
        "    \"\"\"\n",
        "    A = 1/(1+np.exp(-Z))\n",
        "    cache = Z\n",
        "    return A, cache\n",
        "\n",
        "def relu(Z):\n",
        "    \"\"\"\n",
        "    RELU function.\n",
        "    inputs:\n",
        "      Z: output of of the linear activation\n",
        "    outputs:\n",
        "      A: relu(Z)\n",
        "      cache: Z\n",
        "    \"\"\"\n",
        "    A = np.maximum(0,Z)    \n",
        "    cache = Z \n",
        "    return A, cache"
      ],
      "execution_count": 0,
      "outputs": []
    },
    {
      "cell_type": "markdown",
      "metadata": {
        "id": "tV1KWxObD4Fd",
        "colab_type": "text"
      },
      "source": [
        "**Cost-Gradient Functions**"
      ]
    },
    {
      "cell_type": "code",
      "metadata": {
        "id": "g0NZAXxkyYHB",
        "colab_type": "code",
        "colab": {}
      },
      "source": [
        "def relu_backward(dA, cache):\n",
        "    \"\"\"\n",
        "    backward propagation for a single RELU unit.\n",
        "    inputs:\n",
        "      dA: post-activation gradient, of any shape\n",
        "      cache: 'Z' from forward propagation at this step\n",
        "    outputs:\n",
        "      dZ: gradient of the cost with respect to Z\n",
        "    \"\"\"\n",
        "    Z = cache\n",
        "    dZ = np.array(dA, copy=True) # just converting dz to a correct object.\n",
        "    dZ[Z <= 0] = 0    \n",
        "    return dZ\n",
        "\n",
        "def sigmoid_backward(dA, cache):\n",
        "    \"\"\"\n",
        "    backward propagation for a single SIGMOID unit.\n",
        "    inputs:\n",
        "      dA: post-activation gradient, of any shape\n",
        "      cache: 'Z' from forward propagation at this step\n",
        "    outputs:\n",
        "      dZ: gradient of the cost with respect to Z\n",
        "    \"\"\"\n",
        "    Z = cache\n",
        "    s = 1/(1+np.exp(-Z))\n",
        "    dZ = dA * s * (1-s)    \n",
        "    return dZ"
      ],
      "execution_count": 0,
      "outputs": []
    },
    {
      "cell_type": "markdown",
      "metadata": {
        "id": "21zOjTbDERZB",
        "colab_type": "text"
      },
      "source": [
        "**Parameter Initialization**"
      ]
    },
    {
      "cell_type": "code",
      "metadata": {
        "id": "_cC7EqBRye-h",
        "colab_type": "code",
        "colab": {}
      },
      "source": [
        "def initialize_parameters(layer_dims):\n",
        "    \"\"\"\n",
        "    inputs:\n",
        "      layer_dims: list containing the dimensions of each layer in our network\n",
        "    outputs:\n",
        "      parameters: python dictionary containing your parameters Wi, Bi for 1<i<=L:\n",
        "          Wi: weight matrix of shape (layer_dims[l], layer_dims[l-1])\n",
        "          bi: bias vector of shape (layer_dims[l], 1)\n",
        "    \"\"\"\n",
        "    \n",
        "    np.random.seed(5)\n",
        "    parameters = {}\n",
        "    L = len(layer_dims)\n",
        "\n",
        "    #initialize parameters\n",
        "    for l in range(1, L):\n",
        "        parameters['W' + str(l)] = np.random.randn(layer_dims[l], layer_dims[l-1])*0.25\n",
        "        parameters['b' + str(l)] = np.zeros((layer_dims[l], 1))    \n",
        "    return parameters"
      ],
      "execution_count": 0,
      "outputs": []
    },
    {
      "cell_type": "markdown",
      "metadata": {
        "id": "ki4jKn21FH6C",
        "colab_type": "text"
      },
      "source": [
        "**Forward Propagation**"
      ]
    },
    {
      "cell_type": "code",
      "metadata": {
        "id": "ASDWRCwxyjMI",
        "colab_type": "code",
        "colab": {}
      },
      "source": [
        "def linear_forward(A, W, b):\n",
        "    \"\"\"\n",
        "    calculates Z = W.T*X + b for one step of forward propagation\n",
        "    inputs:\n",
        "      A: activations from previous layer, shape = (size of previous layer, number of examples)\n",
        "      W: weights matrix, shape = (size of current layer, size of previous layer)\n",
        "      b: bias vector, shape = (size of the current layer, 1)\n",
        "    outputs:\n",
        "      Z: the linear activation function matrix \n",
        "      cache: dictionary to store the input values at this step for back propagation\n",
        "    \"\"\"\n",
        "    Z = np.dot(W, A) + b\n",
        "    cache = (A, W, b)\n",
        "    return Z, cache\n",
        "\n",
        "def linear_activation_forward(A_prev, W, b, activation):\n",
        "    \"\"\"\n",
        "    forward propagation for the LINEAR->ACTIVATION layer\n",
        "    inputs:\n",
        "      A_prev: activations from previous layer, shape = (size of previous layer, number of examples)\n",
        "      W: weights matrix, shape = (size of current layer, size of previous layer)\n",
        "      b: bias vector, shape = (size of the current layer, 1)\n",
        "      activation: the type of activation function applied to this layer\n",
        "    outputs:\n",
        "      A: the output of the activation function\n",
        "      cache: a python dictionary containing \"linear_cache\" and \"activation_cache\";\n",
        "             stored for computing the backward pass efficiently\n",
        "    \"\"\"\n",
        "    if activation == \"sigmoid\":\n",
        "        # Inputs: \"A_prev, W, b\". Outputs: \"A, activation_cache\".\n",
        "        Z, linear_cache = linear_forward(A_prev, W, b)\n",
        "        A, activation_cache = sigmoid(Z)\n",
        "    elif activation == \"relu\":\n",
        "        # Inputs: \"A_prev, W, b\". Outputs: \"A, activation_cache\".\n",
        "        Z, linear_cache = linear_forward(A_prev, W, b)\n",
        "        A, activation_cache = relu(Z)\n",
        "    cache = (linear_cache, activation_cache)\n",
        "    return A, cache\n",
        "\n",
        "def forward_propagation(X, parameters):\n",
        "    \"\"\"\n",
        "    forward propagation for all of the layers\n",
        "    inputs:\n",
        "      X: train data, shape = (input size, number of examples)\n",
        "      parameters: output of initialize_parameters()\n",
        "    outputs:\n",
        "      AL: last post-activation value\n",
        "      caches: list of caches containing the activation values\n",
        "    \"\"\"\n",
        "    caches = []\n",
        "    A = X\n",
        "    L = len(parameters) // 2                  # number of layers in the neural network\n",
        "    \n",
        "    #relu activation layers\n",
        "    for l in range(1, L):\n",
        "        A_prev = A \n",
        "        A, cache = linear_activation_forward(A_prev, parameters['W' + str(l)], parameters['b' + str(l)], activation = \"relu\")\n",
        "        caches.append(cache)\n",
        "    \n",
        "    #sigmoid activation layers\n",
        "    AL, cache = linear_activation_forward(A, parameters['W' + str(L)], parameters['b' + str(L)], activation = \"sigmoid\")\n",
        "    caches.append(cache)\n",
        "            \n",
        "    return AL, caches\n"
      ],
      "execution_count": 0,
      "outputs": []
    },
    {
      "cell_type": "markdown",
      "metadata": {
        "id": "OoJ8dc3PHFQf",
        "colab_type": "text"
      },
      "source": [
        "**Cost of Forward Propagation**"
      ]
    },
    {
      "cell_type": "code",
      "metadata": {
        "id": "VBuEqCa5yneC",
        "colab_type": "code",
        "colab": {}
      },
      "source": [
        "def cost_function(AL, Y):\n",
        "    \"\"\"\n",
        "    cross-entropy cost function\n",
        "    inputs:\n",
        "      AL -- estimate of forward propagation, shape = (1, number of examples)\n",
        "      Y -- actual classification (1 for hotdog, 0 for nothotdog), shape = (1, number of examples)\n",
        "    outputs:\n",
        "      cost -- cross-entropy cost\n",
        "    \"\"\"\n",
        "    m = Y.shape[1]\n",
        "    cost = (1./m) * (-np.dot(Y,np.log(AL).T) - np.dot(1-Y, np.log(1-AL).T))\n",
        "    cost = np.squeeze(cost)          \n",
        "    return cost\n"
      ],
      "execution_count": 0,
      "outputs": []
    },
    {
      "cell_type": "markdown",
      "metadata": {
        "id": "_YdowXlvHfxB",
        "colab_type": "text"
      },
      "source": [
        "**Back Propagation**"
      ]
    },
    {
      "cell_type": "code",
      "metadata": {
        "id": "KyIkLN5cyp4B",
        "colab_type": "code",
        "colab": {}
      },
      "source": [
        "def linear_backward(dZ, cache):\n",
        "    \"\"\"\n",
        "    linear \"deactivation\" for backward propagation for one layer\n",
        "    inputs:\n",
        "      dZ: gradient of the cost with respect to the linear output (of current layer l)\n",
        "      cache: tuple of values (A_prev, W, b) coming from the forward propagation in the current layer\n",
        "    Returns:\n",
        "      dA_prev: gradient of the cost with respect to the activation (of the previous layer l-1), same shape as A_prev\n",
        "      dW: gradient of the cost with respect to W (current layer l), same shape as W\n",
        "      db: gradient of the cost with respect to b (current layer l), same shape as b\n",
        "    \"\"\"\n",
        "    A_prev, W, b = cache\n",
        "    m = A_prev.shape[1]\n",
        "\n",
        "    dW = 1./m * np.dot(dZ,A_prev.T)\n",
        "    db = 1./m * np.sum(dZ, axis = 1, keepdims = True)\n",
        "    dA_prev = np.dot(W.T,dZ)\n",
        "\n",
        "    return dA_prev, dW, db\n",
        "\n",
        "def linear_activation_backward(dA, cache, activation):\n",
        "    \"\"\"\n",
        "    backward propagation for the LINEAR->ACTIVATION layer.\n",
        "    inputs:\n",
        "      dA: post-activation gradient for current layer l \n",
        "      cache: tuple of values (linear_cache, activation_cache) we store for computing backward propagation efficiently\n",
        "      activation: the activation to be used in this layer, stored as a text string: \"sigmoid\" or \"relu\"\n",
        "    outputs:\n",
        "      A_prev: Gradient of the cost with respect to the activation (of the previous layer l-1), same shape as A_prev\n",
        "      dW: Gradient of the cost with respect to W (current layer l), same shape as W\n",
        "      db: Gradient of the cost with respect to b (current layer l), same shape as b\n",
        "    \"\"\"\n",
        "    linear_cache, activation_cache = cache\n",
        "    \n",
        "    if activation == \"relu\":\n",
        "        dZ = relu_backward(dA, activation_cache)\n",
        "        dA_prev, dW, db = linear_backward(dZ, linear_cache)\n",
        "        \n",
        "    elif activation == \"sigmoid\":\n",
        "        dZ = sigmoid_backward(dA, activation_cache)\n",
        "        dA_prev, dW, db = linear_backward(dZ, linear_cache)\n",
        "    \n",
        "    return dA_prev, dW, db\n",
        "\n",
        "def backward_propagation(AL, Y, caches):\n",
        "    \"\"\"\n",
        "    backward propagation for all layers\n",
        "    inputs:\n",
        "      AL: output of the forward propagation\n",
        "      Y: actual classification (1 for hotdog, 0 for nothotdog), shape = (1, number of examples)\n",
        "      caches: list of caches containing activation caches\n",
        "    Returns:\n",
        "      grads: A dictionary with the gradients dA, dW, dB \n",
        "    \"\"\"\n",
        "    grads = {}\n",
        "    L = len(caches) # the number of layers\n",
        "    m = AL.shape[1]\n",
        "    Y = Y.reshape(AL.shape) # after this line, Y is the same shape as AL\n",
        "    \n",
        "    dAL = - (np.divide(Y, AL) - np.divide(1 - Y, 1 - AL))\n",
        "    \n",
        "    current_cache = caches[L-1]\n",
        "    grads[\"dA\" + str(L-1)], grads[\"dW\" + str(L)], grads[\"db\" + str(L)] = linear_activation_backward(dAL, current_cache, activation = \"sigmoid\")\n",
        "    \n",
        "    for l in reversed(range(L-1)):\n",
        "        current_cache = caches[l]\n",
        "        dA_prev_temp, dW_temp, db_temp = linear_activation_backward(grads[\"dA\" + str(l + 1)], current_cache, activation = \"relu\")\n",
        "        grads[\"dA\" + str(l)] = dA_prev_temp\n",
        "        grads[\"dW\" + str(l + 1)] = dW_temp\n",
        "        grads[\"db\" + str(l + 1)] = db_temp\n",
        "\n",
        "    return grads\n"
      ],
      "execution_count": 0,
      "outputs": []
    },
    {
      "cell_type": "markdown",
      "metadata": {
        "id": "oSK_pUgd1PVg",
        "colab_type": "text"
      },
      "source": [
        "**Update Parameters after Back Propagation**"
      ]
    },
    {
      "cell_type": "code",
      "metadata": {
        "id": "XJHo1jYdyuDm",
        "colab_type": "code",
        "colab": {}
      },
      "source": [
        "def update_parameters(parameters, grads, learning_rate):\n",
        "    \"\"\"\n",
        "    Update parameters with gradient descent\n",
        "    Arguments:\n",
        "      parameters: python dictionary containing parameters \n",
        "      grads: python dictionary containing gradients, output of L_model_backward\n",
        "      learning_rate: how much of a \"step\" do we take each iteration of gradient descent\n",
        "    Returns:\n",
        "      parameters: python dictionary containing the updated W and b\n",
        "    \"\"\"\n",
        "    L = len(parameters) // 2 # number of layers in the neural network\n",
        "    \n",
        "    # Update each parameter\n",
        "    for l in range(L):\n",
        "        parameters[\"W\" + str(l+1)] = parameters.get(\"W\" + str(l+1)) - learning_rate*grads.get(\"dW\" + str(l+1))\n",
        "        parameters[\"b\" + str(l+1)] = parameters.get(\"b\" + str(l+1)) - learning_rate*grads.get(\"db\" + str(l+1))\n",
        "        \n",
        "    return parameters\n"
      ],
      "execution_count": 0,
      "outputs": []
    },
    {
      "cell_type": "markdown",
      "metadata": {
        "id": "dERcyktm1WgI",
        "colab_type": "text"
      },
      "source": [
        "**Predictor Function**:\n",
        "Uses the parameters obtained by the model to make a prediction for the output"
      ]
    },
    {
      "cell_type": "code",
      "metadata": {
        "id": "DmcsolbHywvG",
        "colab_type": "code",
        "colab": {}
      },
      "source": [
        "def predict(X, y, parameters):\n",
        "    \"\"\"\n",
        "    This function is used to predict the results of the neural network.\n",
        "    Arguments:\n",
        "      X: data set of examples you would like to label\n",
        "      y: the label of the corresponding X\n",
        "      parameters: parameters of the trained model\n",
        "    Returns:\n",
        "      p: predictions for the given dataset X\n",
        "    \"\"\"\n",
        "    m = X.shape[1]\n",
        "    n = len(parameters) // 2 # number of layers in the neural network\n",
        "    p = np.zeros((1,m))\n",
        "    \n",
        "    # Forward propagation\n",
        "    probas, caches = forward_propagation(X, parameters)\n",
        "    \n",
        "    # convert probas to 0/1 predictions\n",
        "    for i in range(0, probas.shape[1]):\n",
        "        if probas[0,i] > 0.5:\n",
        "            p[0,i] = 1\n",
        "        else:\n",
        "            p[0,i] = 0\n",
        "    \n",
        "    #print accuracy\n",
        "    print(\"Accuracy: \"  + str(np.sum((p == y)/m)))   \n",
        "    return p"
      ],
      "execution_count": 0,
      "outputs": []
    },
    {
      "cell_type": "markdown",
      "metadata": {
        "id": "reX0emgA1qup",
        "colab_type": "text"
      },
      "source": [
        "**Model using above helper functions**"
      ]
    },
    {
      "cell_type": "code",
      "metadata": {
        "id": "k9mkQKYfuqUS",
        "colab_type": "code",
        "colab": {}
      },
      "source": [
        "def model(X, Y, layers_dims, learning_rate = 0.0075, num_iterations = 2500, print_cost=False):\n",
        "    \"\"\"\n",
        "    the neural network: [LINEAR->RELU]*(L-1)->LINEAR->SIGMOID.\n",
        "    inputs:\n",
        "      X: data, numpy array of shape (num_px * num_px * 3, number of examples)\n",
        "      Y: output vector, (1 if hotdog, 0 if nothotdog)\n",
        "      layers_dims: list containing the input size and each layer size, of length (number of layers + 1).\n",
        "      learning_rate: learning rate of the gradient descent update rule\n",
        "      num_iterations: number of iterations of the optimization loop\n",
        "      print_cost: if True, it prints the cost every 100 steps\n",
        "    outputs:\n",
        "      parameters: parameters learnt by the model. They can then be used to predict.\n",
        "    \"\"\"\n",
        "    np.random.seed(1)\n",
        "    costs = []                         # keep track of cost\n",
        "    \n",
        "    # Parameters initialization\n",
        "    parameters = initialize_parameters(layers_dims)\n",
        "    \n",
        "    # Loop (gradient descent)\n",
        "    for i in range(0, num_iterations):\n",
        "\n",
        "        # Forward propagation: [LINEAR -> RELU]*(L-1) -> LINEAR -> SIGMOID.\n",
        "        AL, caches = forward_propagation(X, parameters)\n",
        "\n",
        "        # Compute cost.\n",
        "        cost = cost_function(AL, Y)\n",
        "    \n",
        "        # Backward propagation.\n",
        "        grads = backward_propagation(AL, Y, caches)\n",
        "\n",
        "        # Update parameters.\n",
        "        parameters = update_parameters(parameters, grads, learning_rate)\n",
        "                \n",
        "        # Print the cost every 100 training example\n",
        "        if print_cost and i % 100 == 0:\n",
        "            print (\"Cost after iteration %i: %f\" %(i, cost))\n",
        "            costs.append(cost)\n",
        "    \n",
        "    return parameters"
      ],
      "execution_count": 0,
      "outputs": []
    },
    {
      "cell_type": "markdown",
      "metadata": {
        "id": "l9mXjJev1v9V",
        "colab_type": "text"
      },
      "source": [
        "**Run the Model and Assess Accuracy**"
      ]
    },
    {
      "cell_type": "code",
      "metadata": {
        "scrolled": false,
        "id": "aY0sB1iNuqUV",
        "colab_type": "code",
        "outputId": "ca04f73d-9149-4f76-9cbb-9b1318aa748c",
        "colab": {
          "base_uri": "https://localhost:8080/",
          "height": 289
        }
      },
      "source": [
        "parameters = model(train_x, train_y, layers_dims, num_iterations = 1600, print_cost = True)"
      ],
      "execution_count": 43,
      "outputs": [
        {
          "output_type": "stream",
          "text": [
            "Cost after iteration 0: 0.939585\n",
            "Cost after iteration 100: 0.634744\n",
            "Cost after iteration 200: 0.559525\n",
            "Cost after iteration 300: 0.513151\n",
            "Cost after iteration 400: 0.465920\n",
            "Cost after iteration 500: 0.621774\n",
            "Cost after iteration 600: 0.283490\n",
            "Cost after iteration 700: 0.174452\n",
            "Cost after iteration 800: 0.148068\n",
            "Cost after iteration 900: 0.476585\n",
            "Cost after iteration 1000: 0.292070\n",
            "Cost after iteration 1100: 0.155653\n",
            "Cost after iteration 1200: 0.098768\n",
            "Cost after iteration 1300: 0.037415\n",
            "Cost after iteration 1400: 0.014525\n",
            "Cost after iteration 1500: 0.010096\n"
          ],
          "name": "stdout"
        }
      ]
    },
    {
      "cell_type": "code",
      "metadata": {
        "scrolled": true,
        "id": "NIrpeyptuqUX",
        "colab_type": "code",
        "outputId": "5ad358a9-2800-4061-cd07-c664009ab463",
        "colab": {
          "base_uri": "https://localhost:8080/",
          "height": 34
        }
      },
      "source": [
        "pred_train = predict(train_x, train_y_orig, parameters)"
      ],
      "execution_count": 44,
      "outputs": [
        {
          "output_type": "stream",
          "text": [
            "Accuracy: 0.9919678714859439\n"
          ],
          "name": "stdout"
        }
      ]
    },
    {
      "cell_type": "code",
      "metadata": {
        "id": "wSY8_6jKuqUa",
        "colab_type": "code",
        "outputId": "f138e864-1408-4a8a-fd2e-b44c39b825b9",
        "colab": {
          "base_uri": "https://localhost:8080/",
          "height": 34
        }
      },
      "source": [
        "pred_test = predict(test_x, test_y_orig, parameters)"
      ],
      "execution_count": 45,
      "outputs": [
        {
          "output_type": "stream",
          "text": [
            "Accuracy: 0.554\n"
          ],
          "name": "stdout"
        }
      ]
    },
    {
      "cell_type": "code",
      "metadata": {
        "id": "-ukHzXeNycaa",
        "colab_type": "code",
        "colab": {}
      },
      "source": [
        ""
      ],
      "execution_count": 0,
      "outputs": []
    }
  ]
}